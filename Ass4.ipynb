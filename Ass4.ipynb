{
  "nbformat": 4,
  "nbformat_minor": 0,
  "metadata": {
    "colab": {
      "provenance": []
    },
    "kernelspec": {
      "name": "python3",
      "display_name": "Python 3"
    },
    "language_info": {
      "name": "python"
    }
  },
  "cells": [
    {
      "cell_type": "code",
      "execution_count": 2,
      "metadata": {
        "colab": {
          "base_uri": "https://localhost:8080/"
        },
        "id": "fFAxYSc-FokZ",
        "outputId": "be76bc19-590b-4bf7-ba11-56c6bb088f84"
      },
      "outputs": [
        {
          "output_type": "stream",
          "name": "stdout",
          "text": [
            "[3 4 5 6 7]\n",
            "[ 3  6  9 12 15]\n",
            "[0.5 1.  1.5 2.  2.5]\n"
          ]
        }
      ],
      "source": [
        "import numpy as np\n",
        "arr = np.array([1,2,3,4,5])\n",
        "print (arr + 2)\n",
        "print(arr*3)\n",
        "print(arr/2)"
      ]
    },
    {
      "cell_type": "code",
      "source": [
        "import numpy as np\n",
        "arr = np.array([1, 2, 3, 6, 4, 5])\n",
        "reversed_arr = arr[::-1]\n",
        "print(\"Reversed array:\", reversed_arr)\n"
      ],
      "metadata": {
        "colab": {
          "base_uri": "https://localhost:8080/"
        },
        "id": "IMoEQE8DGK5M",
        "outputId": "723130c2-f45e-44c9-b3a4-4b1b77e73126"
      },
      "execution_count": 3,
      "outputs": [
        {
          "output_type": "stream",
          "name": "stdout",
          "text": [
            "Reversed array: [5 4 6 3 2 1]\n"
          ]
        }
      ]
    },
    {
      "cell_type": "code",
      "source": [
        "import numpy as np\n",
        "x = np.array([1,2,3,4,5,1,2,1,1,1])\n",
        "\n",
        "values, counts = np.unique(x, return_counts=True)\n",
        "most_frequent_value = values[np.argmax(counts)]\n",
        "\n",
        "indices = np.where(x == most_frequent_value)[0]\n",
        "\n",
        "print(\"Most frequent value in x:\", most_frequent_value)\n",
        "print(\"Indices of most frequent value in x:\", indices)"
      ],
      "metadata": {
        "colab": {
          "base_uri": "https://localhost:8080/"
        },
        "id": "mINXc-XqGLxH",
        "outputId": "450784aa-a6d0-40a5-bc47-5e13b91c8edd"
      },
      "execution_count": 8,
      "outputs": [
        {
          "output_type": "stream",
          "name": "stdout",
          "text": [
            "Most frequent value in x: 1\n",
            "Indices of most frequent value in x: [0 5 7 8 9]\n"
          ]
        }
      ]
    },
    {
      "cell_type": "code",
      "source": [
        "import numpy as np\n",
        "y = np.array([1, 1, 1, 2, 3, 4, 2, 4, 3, 3])\n",
        "\n",
        "values_y, counts_y = np.unique(y, return_counts=True)\n",
        "most_frequent_value_y = values_y[np.argmax(counts_y)]\n",
        "\n",
        "indices_y = np.where(y == most_frequent_value_y)[0]\n",
        "\n",
        "print(\"Most frequent value in y:\", most_frequent_value_y)\n",
        "print(\"Indices of most frequent value in y:\", indices_y)"
      ],
      "metadata": {
        "colab": {
          "base_uri": "https://localhost:8080/"
        },
        "id": "cyT775XrGL52",
        "outputId": "c76c0796-656a-4899-a14b-2a38eb8758af"
      },
      "execution_count": 7,
      "outputs": [
        {
          "output_type": "stream",
          "name": "stdout",
          "text": [
            "Most frequent value in y: 1\n",
            "Indices of most frequent value in y: [0 1 2]\n"
          ]
        }
      ]
    },
    {
      "cell_type": "code",
      "source": [
        "arr = np.array([\n",
        "    [10,20,30],\n",
        "    [40,50,60],\n",
        "    [70,80,90]\n",
        "])\n",
        "print(arr[0,1])\n",
        "print(arr[2,0])"
      ],
      "metadata": {
        "colab": {
          "base_uri": "https://localhost:8080/"
        },
        "id": "POS5zaIcH4Z0",
        "outputId": "b32528b1-647a-4af0-f144-c0234830540d"
      },
      "execution_count": 6,
      "outputs": [
        {
          "output_type": "stream",
          "name": "stdout",
          "text": [
            "20\n",
            "70\n"
          ]
        }
      ]
    },
    {
      "cell_type": "code",
      "source": [
        "import numpy as np\n",
        "Ishita = np.linspace(10, 100, 25)\n",
        "print(\"Array:\", Ishita)\n",
        "print(\"Dimensions of the array:\", Ishita.ndim)\n",
        "print(\"Shape of the array:\", Ishita.shape)\n",
        "print(\"Total elements in the array:\", Ishita.size)\n",
        "print(\"Data type of each element:\", Ishita.dtype)\n",
        "print(\"Total bytes consumed by the array:\", Ishita.nbytes)\n",
        "\n",
        "transposed_array = Ishita.reshape(25, 1)\n",
        "print(\"\\nTransposed array using reshape():\\n\", transposed_array)\n",
        "\n",
        "transposed_with_T = Ishita.T\n",
        "print(\"\\nTransposed array using T attribute:\\n\", transposed_with_T)\n",
        "print(\"\\nIs transposed_with_T the same as the original array?\", np.array_equal(Ishita, transposed_with_T))"
      ],
      "metadata": {
        "colab": {
          "base_uri": "https://localhost:8080/"
        },
        "id": "vKodp3azGXjj",
        "outputId": "ecb7fc77-e95c-496c-e8f4-0d3567d5c23d"
      },
      "execution_count": 13,
      "outputs": [
        {
          "output_type": "stream",
          "name": "stdout",
          "text": [
            "Array: [ 10.    13.75  17.5   21.25  25.    28.75  32.5   36.25  40.    43.75\n",
            "  47.5   51.25  55.    58.75  62.5   66.25  70.    73.75  77.5   81.25\n",
            "  85.    88.75  92.5   96.25 100.  ]\n",
            "Dimensions of the array: 1\n",
            "Shape of the array: (25,)\n",
            "Total elements in the array: 25\n",
            "Data type of each element: float64\n",
            "Total bytes consumed by the array: 200\n",
            "\n",
            "Transposed array using reshape():\n",
            " [[ 10.  ]\n",
            " [ 13.75]\n",
            " [ 17.5 ]\n",
            " [ 21.25]\n",
            " [ 25.  ]\n",
            " [ 28.75]\n",
            " [ 32.5 ]\n",
            " [ 36.25]\n",
            " [ 40.  ]\n",
            " [ 43.75]\n",
            " [ 47.5 ]\n",
            " [ 51.25]\n",
            " [ 55.  ]\n",
            " [ 58.75]\n",
            " [ 62.5 ]\n",
            " [ 66.25]\n",
            " [ 70.  ]\n",
            " [ 73.75]\n",
            " [ 77.5 ]\n",
            " [ 81.25]\n",
            " [ 85.  ]\n",
            " [ 88.75]\n",
            " [ 92.5 ]\n",
            " [ 96.25]\n",
            " [100.  ]]\n",
            "\n",
            "Transposed array using T attribute:\n",
            " [ 10.    13.75  17.5   21.25  25.    28.75  32.5   36.25  40.    43.75\n",
            "  47.5   51.25  55.    58.75  62.5   66.25  70.    73.75  77.5   81.25\n",
            "  85.    88.75  92.5   96.25 100.  ]\n",
            "\n",
            "Is transposed_with_T the same as the original array? True\n"
          ]
        }
      ]
    },
    {
      "cell_type": "code",
      "source": [
        "import numpy as np\n",
        "ucs420_Ishita = np.array([\n",
        "    [10,20,30,40],\n",
        "    [50,60,70,80],\n",
        "    [90,15,20,35]\n",
        "])\n",
        "\n",
        "print(np.mean(ucs420_Ishita))\n",
        "print(np.median(ucs420_Ishita))\n",
        "print(np.max(ucs420_Ishita))\n",
        "print(np.min(ucs420_Ishita))\n",
        "print(np.unique(ucs420_Ishita))\n",
        "\n",
        "reshaped_ucs420_Ishita = ucs420_Ishita.reshape(4,3)\n",
        "print(reshaped_ucs420_Ishita)\n",
        "\n",
        "resized_ucs420_Ishita = np.resize(ucs420_Ishita, (2,3))\n",
        "print(resized_ucs420_Ishita)"
      ],
      "metadata": {
        "colab": {
          "base_uri": "https://localhost:8080/"
        },
        "id": "Je0bFefAO3X7",
        "outputId": "0f102543-c39f-46ac-8b3e-32f83d64906a"
      },
      "execution_count": 14,
      "outputs": [
        {
          "output_type": "stream",
          "name": "stdout",
          "text": [
            "43.333333333333336\n",
            "37.5\n",
            "90\n",
            "10\n",
            "[10 15 20 30 35 40 50 60 70 80 90]\n",
            "[[10 20 30]\n",
            " [40 50 60]\n",
            " [70 80 90]\n",
            " [15 20 35]]\n",
            "[[10 20 30]\n",
            " [40 50 60]]\n"
          ]
        }
      ]
    }
  ]
}