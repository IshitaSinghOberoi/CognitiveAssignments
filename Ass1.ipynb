{
  "nbformat": 4,
  "nbformat_minor": 0,
  "metadata": {
    "colab": {
      "provenance": []
    },
    "kernelspec": {
      "name": "python3",
      "display_name": "Python 3"
    },
    "language_info": {
      "name": "python"
    }
  },
  "cells": [
    {
      "cell_type": "code",
      "execution_count": null,
      "metadata": {
        "colab": {
          "base_uri": "https://localhost:8080/"
        },
        "id": "LzJyAGMMOK54",
        "outputId": "6fedfd00-9b5e-40f5-a4fd-8f2229be9b4d"
      },
      "outputs": [
        {
          "output_type": "stream",
          "name": "stdout",
          "text": [
            "Cats\n"
          ]
        }
      ],
      "source": [
        "print(\"Cats\")"
      ]
    },
    {
      "cell_type": "code",
      "source": [
        "a=10\n",
        "b=5\n",
        "print(a+b)"
      ],
      "metadata": {
        "colab": {
          "base_uri": "https://localhost:8080/"
        },
        "id": "wJdLyOYpOqyz",
        "outputId": "ec5b93ce-98db-4aed-b22a-d6f39a618bfd"
      },
      "execution_count": null,
      "outputs": [
        {
          "output_type": "stream",
          "name": "stdout",
          "text": [
            "15\n"
          ]
        }
      ]
    },
    {
      "cell_type": "code",
      "source": [
        "a=\"Cats\"\n",
        "b=\"are cute\"\n",
        "print(a+' '+b)"
      ],
      "metadata": {
        "colab": {
          "base_uri": "https://localhost:8080/"
        },
        "id": "ZxbAqCjUO1Ao",
        "outputId": "5127c545-c3af-49c1-ad14-1565846b6d89"
      },
      "execution_count": null,
      "outputs": [
        {
          "output_type": "stream",
          "name": "stdout",
          "text": [
            "Cats are cute\n"
          ]
        }
      ]
    },
    {
      "cell_type": "code",
      "source": [
        "print(str(9)+\" cats live here\")"
      ],
      "metadata": {
        "id": "Jy1qShzsO1Kw",
        "colab": {
          "base_uri": "https://localhost:8080/"
        },
        "outputId": "3e665d2e-9f3b-42fb-e1d1-97cfbcd87e33"
      },
      "execution_count": 2,
      "outputs": [
        {
          "output_type": "stream",
          "name": "stdout",
          "text": [
            "9 cats live here\n"
          ]
        }
      ]
    },
    {
      "cell_type": "code",
      "source": [
        "a = 45\n",
        "if(a>0):\n",
        "  print(\"a is positive\")\n",
        "elif(a==0):\n",
        "  print(\"a is zero\")\n",
        "else:\n",
        "  print(\"a is negative\")"
      ],
      "metadata": {
        "id": "S35BffqmO1UX",
        "colab": {
          "base_uri": "https://localhost:8080/"
        },
        "outputId": "caf6f466-71ad-4c40-bbf5-2e8872e33920"
      },
      "execution_count": 4,
      "outputs": [
        {
          "output_type": "stream",
          "name": "stdout",
          "text": [
            "a is positive\n"
          ]
        }
      ]
    },
    {
      "cell_type": "code",
      "source": [
        "a=33\n",
        "if(a%2==0):\n",
        "  print(\"a is even\")\n",
        "else:\n",
        "  print(\"a is odd\")"
      ],
      "metadata": {
        "colab": {
          "base_uri": "https://localhost:8080/"
        },
        "id": "two1WCWT8Z8d",
        "outputId": "19d42a88-6286-4914-d8b0-4c24ebd85e43"
      },
      "execution_count": 5,
      "outputs": [
        {
          "output_type": "stream",
          "name": "stdout",
          "text": [
            "a is odd\n"
          ]
        }
      ]
    },
    {
      "cell_type": "code",
      "source": [
        "for i in range(1,11):\n",
        "  print(i)"
      ],
      "metadata": {
        "colab": {
          "base_uri": "https://localhost:8080/"
        },
        "id": "tB_6zROv8o43",
        "outputId": "47ee174f-bd09-4d26-cb04-f54082b67e65"
      },
      "execution_count": 17,
      "outputs": [
        {
          "output_type": "stream",
          "name": "stdout",
          "text": [
            "1\n",
            "2\n",
            "3\n",
            "4\n",
            "5\n",
            "6\n",
            "7\n",
            "8\n",
            "9\n",
            "10\n"
          ]
        }
      ]
    },
    {
      "cell_type": "code",
      "source": [
        "i=1\n",
        "while(i<=10):\n",
        "  print(i)\n",
        "  i+=1"
      ],
      "metadata": {
        "colab": {
          "base_uri": "https://localhost:8080/"
        },
        "id": "5fI2iQQ98ogU",
        "outputId": "37232846-d94a-4cb4-9254-b071fcb4eb38"
      },
      "execution_count": 18,
      "outputs": [
        {
          "output_type": "stream",
          "name": "stdout",
          "text": [
            "1\n",
            "2\n",
            "3\n",
            "4\n",
            "5\n",
            "6\n",
            "7\n",
            "8\n",
            "9\n",
            "10\n"
          ]
        }
      ]
    },
    {
      "cell_type": "code",
      "source": [
        "i=1\n",
        "sm=0\n",
        "while(i<=100):\n",
        "  sm+=i\n",
        "  i+=1\n",
        "print(sm)"
      ],
      "metadata": {
        "colab": {
          "base_uri": "https://localhost:8080/"
        },
        "id": "44caKc-r_T-b",
        "outputId": "949ec37d-7980-4897-da6f-b01e31c295b1"
      },
      "execution_count": 19,
      "outputs": [
        {
          "output_type": "stream",
          "name": "stdout",
          "text": [
            "5050\n"
          ]
        }
      ]
    },
    {
      "cell_type": "code",
      "source": [
        "a=[1,2,3,4,5]\n",
        "print(min(a))\n",
        "print(max(a))"
      ],
      "metadata": {
        "colab": {
          "base_uri": "https://localhost:8080/"
        },
        "id": "Cq5JRCX1_TxJ",
        "outputId": "fff049db-069f-4d67-cb7a-adf618900e2f"
      },
      "execution_count": 6,
      "outputs": [
        {
          "output_type": "stream",
          "name": "stdout",
          "text": [
            "1\n",
            "5\n"
          ]
        }
      ]
    },
    {
      "cell_type": "code",
      "source": [
        "a={1:\"one\",2:\"two\",3:\"three\"}\n",
        "print(a[1])"
      ],
      "metadata": {
        "colab": {
          "base_uri": "https://localhost:8080/"
        },
        "id": "rLLA934w_e_b",
        "outputId": "78541b7c-afb1-41fc-9381-e7f51f7ca959"
      },
      "execution_count": 7,
      "outputs": [
        {
          "output_type": "stream",
          "name": "stdout",
          "text": [
            "one\n"
          ]
        }
      ]
    },
    {
      "cell_type": "code",
      "source": [
        "a=[56,34,2,1,78,89,62]\n",
        "asc=sorted(a)\n",
        "print(asc)\n",
        "desc=sorted(a,reverse=True)\n",
        "print(desc)"
      ],
      "metadata": {
        "colab": {
          "base_uri": "https://localhost:8080/"
        },
        "id": "MbyE5P04_vtv",
        "outputId": "1018af0a-9f8d-4f65-d004-e6fc4acae296"
      },
      "execution_count": 11,
      "outputs": [
        {
          "output_type": "stream",
          "name": "stdout",
          "text": [
            "[1, 2, 34, 56, 62, 78, 89]\n",
            "[89, 78, 62, 56, 34, 2, 1]\n"
          ]
        }
      ]
    },
    {
      "cell_type": "code",
      "source": [
        "a={1:\"one\",2:\"two\",3:\"three\"}\n",
        "b={4:\"four\",5:\"five\"}\n",
        "c=a.copy()\n",
        "c.update(b)\n",
        "print(c)"
      ],
      "metadata": {
        "colab": {
          "base_uri": "https://localhost:8080/"
        },
        "id": "pcTvePhm_vm8",
        "outputId": "795521ce-31f9-4c13-e31b-b84372fdf90b"
      },
      "execution_count": 13,
      "outputs": [
        {
          "output_type": "stream",
          "name": "stdout",
          "text": [
            "{1: 'one', 2: 'two', 3: 'three', 4: 'four', 5: 'five'}\n"
          ]
        }
      ]
    },
    {
      "cell_type": "code",
      "source": [
        "a=\"HII cute kitties\"\n",
        "vsm=0\n",
        "vowels = \"AEIOUaeiou\"\n",
        "for i in a:\n",
        "  if i in vowels:\n",
        "    vsm+=1\n",
        "print(vsm)"
      ],
      "metadata": {
        "colab": {
          "base_uri": "https://localhost:8080/"
        },
        "id": "VRIWZN2CBekc",
        "outputId": "0e0bd912-857a-482d-ca5a-21904ab4ab46"
      },
      "execution_count": 23,
      "outputs": [
        {
          "output_type": "stream",
          "name": "stdout",
          "text": [
            "7\n"
          ]
        }
      ]
    },
    {
      "cell_type": "code",
      "source": [
        "a=\"ISHIIITAA\"\n",
        "rev=a[::-1]\n",
        "print(rev)"
      ],
      "metadata": {
        "colab": {
          "base_uri": "https://localhost:8080/"
        },
        "id": "HeEfFZZ2CuFL",
        "outputId": "850ab045-fc20-4e0b-82ed-8a80f055841a"
      },
      "execution_count": 24,
      "outputs": [
        {
          "output_type": "stream",
          "name": "stdout",
          "text": [
            "AATIIIHSI\n"
          ]
        }
      ]
    },
    {
      "cell_type": "code",
      "source": [
        "a=\"racecar\"\n",
        "rev=a[::-1]\n",
        "if(a==rev):\n",
        "  print(\"Palindrome\")\n",
        "else:\n",
        "  print(\"Not Palindrome\")"
      ],
      "metadata": {
        "colab": {
          "base_uri": "https://localhost:8080/"
        },
        "id": "MDFKcqQfC9fg",
        "outputId": "bbd32dcc-1069-4a9d-a82d-a1e7ec75f2b1"
      },
      "execution_count": 27,
      "outputs": [
        {
          "output_type": "stream",
          "name": "stdout",
          "text": [
            "Palindrome\n"
          ]
        }
      ]
    },
    {
      "cell_type": "code",
      "source": [
        "fname = \"hii.txt\"\n",
        "f=open(fname, \"w\")\n",
        "f.write(\"Hi, how are you??\")\n",
        "f.close()\n",
        "f = open(fname, \"r\")\n",
        "print(f.read())"
      ],
      "metadata": {
        "colab": {
          "base_uri": "https://localhost:8080/"
        },
        "id": "yhlV9fBKDIh0",
        "outputId": "71a21a7a-804f-49de-8a55-d7c8fb2da763"
      },
      "execution_count": 33,
      "outputs": [
        {
          "output_type": "stream",
          "name": "stdout",
          "text": [
            "Hi, how are you??\n"
          ]
        }
      ]
    },
    {
      "cell_type": "code",
      "source": [
        "fname=\"hii.txt\"\n",
        "f=open(fname,\"a\")\n",
        "f.write(\"\\nnamaste! aap kaise ho??\")\n",
        "f.close()\n",
        "f=open(fname,\"r\")\n",
        "print(f.read())"
      ],
      "metadata": {
        "colab": {
          "base_uri": "https://localhost:8080/"
        },
        "id": "n0qMn5C5D4QX",
        "outputId": "691d0186-75c8-4cd2-d170-0a63b81e1d51"
      },
      "execution_count": 34,
      "outputs": [
        {
          "output_type": "stream",
          "name": "stdout",
          "text": [
            "Hi, how are you??\n",
            "namaste! aap kaise ho??\n"
          ]
        }
      ]
    },
    {
      "cell_type": "code",
      "source": [
        "fname=\"hii.txt\"\n",
        "lc=0\n",
        "f=open(fname,\"r\")\n",
        "for line in f:\n",
        "  lc+=1\n",
        "print(lc)"
      ],
      "metadata": {
        "colab": {
          "base_uri": "https://localhost:8080/"
        },
        "id": "l2DzZ0uvD4Ia",
        "outputId": "55c0829d-a705-4557-a375-b3d0040434ee"
      },
      "execution_count": 36,
      "outputs": [
        {
          "output_type": "stream",
          "name": "stdout",
          "text": [
            "2\n"
          ]
        }
      ]
    },
    {
      "cell_type": "code",
      "source": [
        "try:\n",
        "  num=int(input(\"Enter a numerator: \"))\n",
        "  den=int(input(\"Enter a denominator: \"))\n",
        "  x=int(num)/int(den)\n",
        "  print(x)\n",
        "except ZeroDivisionError:\n",
        "  print(\"Error: Can't divide by zero\")"
      ],
      "metadata": {
        "colab": {
          "base_uri": "https://localhost:8080/"
        },
        "id": "pgSRGLWfFFsp",
        "outputId": "d8ca3f60-e0e1-4731-cbf6-8643c58cb692"
      },
      "execution_count": 2,
      "outputs": [
        {
          "output_type": "stream",
          "name": "stdout",
          "text": [
            "Enter a numerator: 5\n",
            "Enter a denominator: 2\n",
            "2.5\n"
          ]
        }
      ]
    },
    {
      "cell_type": "code",
      "source": [
        "try:\n",
        "  num=int(input(\"Enter a number: \"))\n",
        "  print(\"You have entered: \",num)\n",
        "except ValueError:\n",
        "  print(\"Error: Invalid input! Enter a valid number\")"
      ],
      "metadata": {
        "colab": {
          "base_uri": "https://localhost:8080/"
        },
        "id": "qtP7onbgFFjY",
        "outputId": "ae55d166-d20f-417b-ff28-eaf318ff04c8"
      },
      "execution_count": 6,
      "outputs": [
        {
          "output_type": "stream",
          "name": "stdout",
          "text": [
            "Enter a number: f\n",
            "Error: Invalid input! Enter a valid number\n"
          ]
        }
      ]
    },
    {
      "cell_type": "code",
      "source": [
        "try:\n",
        "  num=int(input(\"Enter a numerator: \"))\n",
        "  den=int(input(\"Enter a denominator: \"))\n",
        "  x=int(num)/int(den)\n",
        "  print(x)\n",
        "except ZeroDivisionError:\n",
        "  print(\"Error: Can't divide by zero\")\n",
        "except ValueError:\n",
        "  print(\"Error: Invalid input! Enter a valid number\")\n",
        "finally:\n",
        "  print(\"Execution completed successfully!\")"
      ],
      "metadata": {
        "colab": {
          "base_uri": "https://localhost:8080/"
        },
        "id": "cPj_x2CyFFb_",
        "outputId": "a36e0bd4-5a09-4d58-b21d-e5b963467d88"
      },
      "execution_count": 1,
      "outputs": [
        {
          "output_type": "stream",
          "name": "stdout",
          "text": [
            "Enter a numerator: 3\n",
            "Enter a denominator: 2\n",
            "1.5\n",
            "Execution completed successfully!\n"
          ]
        }
      ]
    },
    {
      "cell_type": "code",
      "source": [
        "import random\n",
        "for i in range(5):\n",
        "  print(random.randint(1,100))"
      ],
      "metadata": {
        "colab": {
          "base_uri": "https://localhost:8080/"
        },
        "id": "LyJZB2UOLZ26",
        "outputId": "c5baf5f0-42bf-413d-d48d-c742dc96a11c"
      },
      "execution_count": 2,
      "outputs": [
        {
          "output_type": "stream",
          "name": "stdout",
          "text": [
            "75\n",
            "54\n",
            "3\n",
            "24\n",
            "84\n"
          ]
        }
      ]
    },
    {
      "cell_type": "code",
      "source": [
        "import random\n",
        "num=random.randint(1,100)\n",
        "is_prime=False\n",
        "if(num>=1):\n",
        "  is_prime=True\n",
        "  for i in range(2,int(num/2)):\n",
        "    if(num%i==0):\n",
        "      is_prime=False\n",
        "      break\n",
        "if(is_prime):\n",
        "  print(num,\" : Prime number\")\n",
        "else:\n",
        "  print(num,\" : Not a prime number\")\n",
        ""
      ],
      "metadata": {
        "colab": {
          "base_uri": "https://localhost:8080/"
        },
        "id": "Wpf791szLZuL",
        "outputId": "090aa835-c43a-4e59-dd71-d2f42e316574"
      },
      "execution_count": 26,
      "outputs": [
        {
          "output_type": "stream",
          "name": "stdout",
          "text": [
            "57  : Not a prime number\n"
          ]
        }
      ]
    },
    {
      "cell_type": "code",
      "source": [
        "import random\n",
        "num=random.randint(1,6)\n",
        "print(\"You rolled die \",num)"
      ],
      "metadata": {
        "colab": {
          "base_uri": "https://localhost:8080/"
        },
        "id": "xn2wgzCZLZnd",
        "outputId": "647cefa5-6be6-4eb1-a18e-579a38390da2"
      },
      "execution_count": 5,
      "outputs": [
        {
          "output_type": "stream",
          "name": "stdout",
          "text": [
            "You rolled die  6\n"
          ]
        }
      ]
    },
    {
      "cell_type": "code",
      "source": [
        "import random\n",
        "num=[1,2,3,4,5,6,7,8,9,10]\n",
        "random.shuffle(num)\n",
        "print(num)"
      ],
      "metadata": {
        "colab": {
          "base_uri": "https://localhost:8080/"
        },
        "id": "azJiUaOiLZet",
        "outputId": "7466c269-dac3-41a7-c911-5e98e7b8ecb0"
      },
      "execution_count": 7,
      "outputs": [
        {
          "output_type": "stream",
          "name": "stdout",
          "text": [
            "[6, 3, 9, 1, 8, 10, 5, 2, 4, 7]\n"
          ]
        }
      ]
    },
    {
      "cell_type": "code",
      "source": [
        "import random\n",
        "lst=[\"cats\",\"dogs\",\"koalas\",\"rabbits\",\"llamas\",\"pandas\",\"penguins\"]\n",
        "ch=random.choice(lst)\n",
        "print(ch)"
      ],
      "metadata": {
        "colab": {
          "base_uri": "https://localhost:8080/"
        },
        "id": "oX71Q0E3LZYL",
        "outputId": "8083732d-69f5-47f8-9f16-7e7a2fbd37b0"
      },
      "execution_count": 16,
      "outputs": [
        {
          "output_type": "stream",
          "name": "stdout",
          "text": [
            "dogs\n"
          ]
        }
      ]
    },
    {
      "cell_type": "code",
      "source": [
        "import random\n",
        "import string\n",
        "len=int(input(\"Enter length of password: \"))\n",
        "password=\"\".join(random.sample(string.ascii_letters + string.digits + string.punctuation,len))\n",
        "print(\"Password: \",password)"
      ],
      "metadata": {
        "colab": {
          "base_uri": "https://localhost:8080/"
        },
        "id": "wt_SRmGELZNf",
        "outputId": "87b09140-be64-491f-c176-02387e7cf0a5"
      },
      "execution_count": 28,
      "outputs": [
        {
          "output_type": "stream",
          "name": "stdout",
          "text": [
            "Enter length of password: 10\n",
            "Password:  5;hzt+P3r)\n"
          ]
        }
      ]
    },
    {
      "cell_type": "code",
      "source": [
        "import random\n",
        "suits=[\"hearts\",\"diamonds\",\"clubs\",\"spades\"]\n",
        "ranks=[\"ace\",\"2\",\"3\",\"4\",\"5\",\"6\",\"7\",\"8\",\"9\",\"10\",\"jack\",\"queen\",\"king\"]\n",
        "rs=random.choice(suits)\n",
        "rr=random.choice(ranks)\n",
        "print(\"Card: \",rr,\" of \",rs)"
      ],
      "metadata": {
        "colab": {
          "base_uri": "https://localhost:8080/"
        },
        "id": "3NB8uvywLZFc",
        "outputId": "f4b82958-f222-4112-a1b0-fa8533260ce4"
      },
      "execution_count": 30,
      "outputs": [
        {
          "output_type": "stream",
          "name": "stdout",
          "text": [
            "Card:  5  of  diamonds\n"
          ]
        }
      ]
    },
    {
      "cell_type": "code",
      "source": [
        "import sys\n",
        "sys.argv=['sum','3','7']\n",
        "num1=int(sys.argv[1])\n",
        "num2=int(sys.argv[2])\n",
        "print(num1+num2)"
      ],
      "metadata": {
        "colab": {
          "base_uri": "https://localhost:8080/"
        },
        "id": "3-1ZemSrLY-U",
        "outputId": "44172639-7b9c-4ab2-f5ea-65aba3565c70"
      },
      "execution_count": 1,
      "outputs": [
        {
          "output_type": "stream",
          "name": "stdout",
          "text": [
            "10\n"
          ]
        }
      ]
    },
    {
      "cell_type": "code",
      "source": [
        "import sys\n",
        "import string\n",
        "str=sys.argv[1]\n",
        "print(len(str))"
      ],
      "metadata": {
        "colab": {
          "base_uri": "https://localhost:8080/"
        },
        "id": "EQyi46VFLY3Z",
        "outputId": "8b5693a7-571e-4a55-f79d-3dee86cbf54c"
      },
      "execution_count": 2,
      "outputs": [
        {
          "output_type": "stream",
          "name": "stdout",
          "text": [
            "1\n"
          ]
        }
      ]
    },
    {
      "cell_type": "code",
      "source": [
        "import math\n",
        "num=int(input(\"Enter a number: \"))\n",
        "if(num<0):\n",
        "  print(\"Error: Enter a positive number\")\n",
        "else:\n",
        "  print(\"Square root: \",math.sqrt(num))"
      ],
      "metadata": {
        "colab": {
          "base_uri": "https://localhost:8080/"
        },
        "id": "8GBxDgs9LYv0",
        "outputId": "c2f938a8-1dff-40c5-dc62-e60a14272550"
      },
      "execution_count": 34,
      "outputs": [
        {
          "output_type": "stream",
          "name": "stdout",
          "text": [
            "Enter a number: -77\n",
            "Error: Enter a positive number\n"
          ]
        }
      ]
    },
    {
      "cell_type": "code",
      "source": [
        "from datetime import datetime\n",
        "now=datetime.now()\n",
        "print(now)"
      ],
      "metadata": {
        "colab": {
          "base_uri": "https://localhost:8080/"
        },
        "id": "FYE4XseELYmf",
        "outputId": "3b90854b-30ec-4daf-8344-a4ab45f47971"
      },
      "execution_count": 35,
      "outputs": [
        {
          "output_type": "stream",
          "name": "stdout",
          "text": [
            "2025-01-12 21:53:57.915294\n"
          ]
        }
      ]
    },
    {
      "cell_type": "code",
      "source": [
        "import os\n",
        "files=os.listdir()\n",
        "for file in files:\n",
        "  print(file )"
      ],
      "metadata": {
        "colab": {
          "base_uri": "https://localhost:8080/"
        },
        "id": "8aUDtclmLYdi",
        "outputId": "f97f393c-9aac-4e56-a54d-f76ab647c60f"
      },
      "execution_count": 40,
      "outputs": [
        {
          "output_type": "stream",
          "name": "stdout",
          "text": [
            ".config\n",
            "sample_data\n"
          ]
        }
      ]
    }
  ]
}