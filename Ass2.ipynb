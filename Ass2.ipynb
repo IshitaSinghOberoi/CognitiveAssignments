{
  "nbformat": 4,
  "nbformat_minor": 0,
  "metadata": {
    "colab": {
      "provenance": []
    },
    "kernelspec": {
      "name": "python3",
      "display_name": "Python 3"
    },
    "language_info": {
      "name": "python"
    }
  },
  "cells": [
    {
      "cell_type": "code",
      "execution_count": null,
      "metadata": {
        "colab": {
          "base_uri": "https://localhost:8080/"
        },
        "id": "UXAVxLGMSa_f",
        "outputId": "8d5adb1c-35b4-40b6-8b59-c12e8789a9c5"
      },
      "outputs": [
        {
          "output_type": "stream",
          "name": "stdout",
          "text": [
            "[10, 20, 30, 40, 50, 60, 70, 80, 200]\n",
            "[10, 20, 30, 40, 50, 60, 70, 80, 200, 300]\n",
            "[20, 30, 40, 50, 60, 70, 80, 200, 300]\n",
            "[20, 40, 50, 60, 70, 80, 200, 300]\n",
            "[20, 40, 50, 60, 70, 80, 200, 300]\n",
            "[300, 200, 80, 70, 60, 50, 40, 20]\n"
          ]
        }
      ],
      "source": [
        "L= [10, 20, 30, 40, 50, 60, 70, 80]\n",
        "L.append(200)\n",
        "print(L)\n",
        "L.append(300)\n",
        "print(L)\n",
        "L.remove(10)\n",
        "print(L)\n",
        "L.remove(30)\n",
        "print(L)\n",
        "L.sort()\n",
        "print(L)\n",
        "L.sort(reverse=True)\n",
        "print(L)"
      ]
    },
    {
      "cell_type": "code",
      "source": [
        "T=(45, 89.5, 76, 45.4, 89, 92, 58, 45)\n",
        "print(\"Max score is\",max(T))\n",
        "print(\"Index of max score is\",T.index(max(T)))\n",
        "print(\"Min score is\",min(T))\n",
        "sm=0\n",
        "m=min(T)\n",
        "for i in T:\n",
        "  if i==m:\n",
        "    sm=sm+1\n",
        "print(\"Minimum score appears\",sm,\"times\")\n",
        "rev=list(reversed(T))\n",
        "print(\"Reversed list is\",rev)\n",
        "num=int(input(\"Enter a number:\"))\n",
        "if(num in T):\n",
        "  print(\"Present at index:\",T.index(num))\n",
        "else:\n",
        "  print(\"Not present\")"
      ],
      "metadata": {
        "colab": {
          "base_uri": "https://localhost:8080/"
        },
        "id": "Hq6n6cdpk4Gp",
        "outputId": "3032358c-1be0-4188-98c0-30056dae59a5"
      },
      "execution_count": null,
      "outputs": [
        {
          "output_type": "stream",
          "name": "stdout",
          "text": [
            "Max score is 92\n",
            "Index of max score is 5\n",
            "Min score is 45\n",
            "Minimum score appears 2 times\n",
            "Reversed list is [45, 58, 92, 89, 45.4, 76, 89.5, 45]\n",
            "Enter a number:100\n",
            "Not present\n"
          ]
        }
      ]
    },
    {
      "cell_type": "code",
      "source": [
        "import random\n",
        "def is_prime(num):\n",
        "    if num <= 1:\n",
        "        return False\n",
        "    for i in range(2, int(num**0.5) + 1):\n",
        "        if num % i == 0:\n",
        "            return False\n",
        "    return True\n",
        "rl=[]\n",
        "for i in range(100):\n",
        "  rl.append(random.randint(100,900))\n",
        "ect=0\n",
        "oct=0\n",
        "pct=0\n",
        "for x in rl:\n",
        "  if (x%2==0):\n",
        "    ect=ect+1\n",
        "  else:\n",
        "    oct=oct+1\n",
        "  if (is_prime(x)):\n",
        "    pct=pct+1\n",
        "print(\"Total even numbers:\",ect)\n",
        "print(\"Total odd numbers:\",oct)\n",
        "print(\"Total prime numbers:\",pct)\n"
      ],
      "metadata": {
        "id": "x60uTXW4vnXr",
        "colab": {
          "base_uri": "https://localhost:8080/"
        },
        "outputId": "a27c2c6a-1d49-4bab-c6f0-acc3e84a445b"
      },
      "execution_count": 5,
      "outputs": [
        {
          "output_type": "stream",
          "name": "stdout",
          "text": [
            "Total even numbers: 49\n",
            "Total odd numbers: 51\n",
            "Total prime numbers: 12\n"
          ]
        }
      ]
    },
    {
      "cell_type": "code",
      "source": [
        "A = {34, 56, 78, 90}\n",
        "B = {78, 45, 90, 23}\n",
        "us=A.union(B)\n",
        "print(\"Union of A and B:\",us)\n",
        "cs=A.intersection(B)\n",
        "print(\"Intersection of A and B:\",cs)\n",
        "es=A.symmetric_difference(B)\n",
        "print(\"Scores exclusive to each team:\",es)\n",
        "isset=A.issubset(B)\n",
        "print(\"Is A a subset of B?:\",isset)\n",
        "issset=B.issuperset(A)\n",
        "print(\"Is B a superset of A?:\",issset)\n",
        "x=int(input(\"Enter the score to be removed from A:\"))\n",
        "if x in A:\n",
        "  A.remove(x)\n",
        "  print(x,\"- Score removed\")\n",
        "else:\n",
        "  print(\"Score not present in A\")"
      ],
      "metadata": {
        "id": "4bG38CrOvngA",
        "colab": {
          "base_uri": "https://localhost:8080/"
        },
        "outputId": "ab4a4ba8-875b-4842-f0a5-fdf4375e3334"
      },
      "execution_count": 7,
      "outputs": [
        {
          "output_type": "stream",
          "name": "stdout",
          "text": [
            "Union of A and B: {34, 45, 78, 23, 56, 90}\n",
            "Intersection of A and B: {90, 78}\n",
            "Scores exclusive to each team: {34, 45, 23, 56}\n",
            "Is A a subset of B?: False\n",
            "Is B a superset of A?: False\n",
            "Enter the score to be removed from A:77\n",
            "Score not present in A\n"
          ]
        }
      ]
    },
    {
      "cell_type": "code",
      "source": [
        "sampledict={\n",
        "    \"name\":\"Kelly\",\n",
        "    \"age\":25,\n",
        "    \"salary\":8000,\n",
        "    \"city\":\"New York\"\n",
        "}\n",
        "sampledict[\"location\"]=sampledict.pop('city')\n",
        "print(sampledict)"
      ],
      "metadata": {
        "id": "CiqquVskvnpK",
        "colab": {
          "base_uri": "https://localhost:8080/"
        },
        "outputId": "8763bb20-43e4-4990-808b-888cb137126b"
      },
      "execution_count": 9,
      "outputs": [
        {
          "output_type": "stream",
          "name": "stdout",
          "text": [
            "{'name': 'Kelly', 'age': 25, 'salary': 8000, 'location': 'New York'}\n"
          ]
        }
      ]
    }
  ]
}